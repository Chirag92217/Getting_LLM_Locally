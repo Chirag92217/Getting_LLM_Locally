{
 "cells": [
  {
   "cell_type": "code",
   "execution_count": null,
   "id": "6550a385",
   "metadata": {},
   "outputs": [
    {
     "name": "stdout",
     "output_type": "stream",
     "text": [
      "Looking in indexes: https://pypi.org/simple, https://download.pytorch.org/whl/cu121\n",
      "Requirement already satisfied: torch in d:\\llm\\.venv\\lib\\site-packages (2.2.0+cu121)\n",
      "Requirement already satisfied: filelock in d:\\llm\\.venv\\lib\\site-packages (from torch) (3.18.0)\n",
      "Requirement already satisfied: typing-extensions>=4.8.0 in d:\\llm\\.venv\\lib\\site-packages (from torch) (4.13.1)\n",
      "Requirement already satisfied: sympy in d:\\llm\\.venv\\lib\\site-packages (from torch) (1.13.3)\n",
      "Requirement already satisfied: networkx in d:\\llm\\.venv\\lib\\site-packages (from torch) (3.2.1)\n",
      "Requirement already satisfied: jinja2 in d:\\llm\\.venv\\lib\\site-packages (from torch) (3.1.6)\n",
      "Requirement already satisfied: fsspec in d:\\llm\\.venv\\lib\\site-packages (from torch) (2025.3.2)\n",
      "Requirement already satisfied: MarkupSafe>=2.0 in d:\\llm\\.venv\\lib\\site-packages (from jinja2->torch) (3.0.2)\n",
      "Requirement already satisfied: mpmath<1.4,>=1.1.0 in d:\\llm\\.venv\\lib\\site-packages (from sympy->torch) (1.3.0)\n"
     ]
    }
   ],
   "source": [
    "# !pip install networkx==2.8.8\n",
    "# pip install --pre torch torchvision torchaudio --index-url https://download.pytorch.org/whl/nightly/cu128\n",
    "\n"
   ]
  },
  {
   "cell_type": "code",
   "execution_count": 2,
   "id": "ef1888cd",
   "metadata": {},
   "outputs": [
    {
     "name": "stdout",
     "output_type": "stream",
     "text": [
      "PyTorch version: 2.2.0+cu121\n",
      "CUDA available: True\n",
      "GPU Name: NVIDIA GeForce RTX 4060 Laptop GPU\n",
      "Current Device: 0\n",
      "CUDA Version: 12.1\n"
     ]
    }
   ],
   "source": [
    "import torch\n",
    "\n",
    "# Check if CUDA (GPU support) is available\n",
    "print(\"PyTorch version:\", torch.__version__)\n",
    "print(\"CUDA available:\", torch.cuda.is_available())\n",
    "\n",
    "# Check the GPU details\n",
    "if torch.cuda.is_available():\n",
    "    print(\"GPU Name:\", torch.cuda.get_device_name(0))\n",
    "    print(\"Current Device:\", torch.cuda.current_device())\n",
    "    print(\"CUDA Version:\", torch.version.cuda)"
   ]
  },
  {
   "cell_type": "code",
   "execution_count": null,
   "id": "e36e8045",
   "metadata": {},
   "outputs": [],
   "source": [
    "# pip install  transformers huggingface_hub accelerate pillow"
   ]
  },
  {
   "cell_type": "code",
   "execution_count": 5,
   "id": "d83fa5d6",
   "metadata": {},
   "outputs": [
    {
     "name": "stderr",
     "output_type": "stream",
     "text": [
      "Fetching 19 files:  21%|██        | 4/19 [00:02<00:10,  1.45it/s]Error while downloading from https://cdn-lfs-us-1.hf.co/repos/f4/2e/f42e3c753096bd769b1704b73cd24400ec9a54fc7aa48f4a31829d8eade5e915/0b63955ab888de22c8226df621e46af167f64ad80e53a4fd3736b265d2fda0ca?response-content-disposition=inline%3B+filename*%3DUTF-8%27%27model-00001-of-00006.safetensors%3B+filename%3D%22model-00001-of-00006.safetensors%22%3B&Expires=1744029540&Policy=eyJTdGF0ZW1lbnQiOlt7IkNvbmRpdGlvbiI6eyJEYXRlTGVzc1RoYW4iOnsiQVdTOkVwb2NoVGltZSI6MTc0NDAyOTU0MH19LCJSZXNvdXJjZSI6Imh0dHBzOi8vY2RuLWxmcy11cy0xLmhmLmNvL3JlcG9zL2Y0LzJlL2Y0MmUzYzc1MzA5NmJkNzY5YjE3MDRiNzNjZDI0NDAwZWM5YTU0ZmM3YWE0OGY0YTMxODI5ZDhlYWRlNWU5MTUvMGI2Mzk1NWFiODg4ZGUyMmM4MjI2ZGY2MjFlNDZhZjE2N2Y2NGFkODBlNTNhNGZkMzczNmIyNjVkMmZkYTBjYT9yZXNwb25zZS1jb250ZW50LWRpc3Bvc2l0aW9uPSoifV19&Signature=o7SfzmzDmWswqt-RrP1HBDC6LkyLjPXxmjcpA-wrJKqJoGg8gq1zW39Bh30Ru83nz9j%7ElfTHlyVyWTDmSVGMjRt1KI-SXF06w1hT1GY1QL4LFdzDDjEx0nnShFHL9NZl%7EyHKHeFqES6dDP95%7EeznE4tH6OUaYBKGlIqUGAE7d82yvbdKSmslOnNzfdt-%7E7D6gdH01SFNToKNy35l2ii3tlsU4ZoCM52LIx1FWgRXVJOTphaf4pVfpxN1SF-qtL1W-V0nBLZE0FFzQWc8VgTrQCjwiPnLVhZ0Mj4tpJz6orjnh4xHRFPi-ySCHHccehJ7END-7-oXOQbHVrWIz-yAoQ__&Key-Pair-Id=K24J24Z295AEI9: HTTPSConnectionPool(host='cdn-lfs-us-1.hf.co', port=443): Read timed out.\n",
      "Trying to resume download...\n",
      "Fetching 19 files: 100%|██████████| 19/19 [11:15<00:00, 35.55s/it]\n"
     ]
    },
    {
     "data": {
      "text/plain": [
       "'D:\\\\LLMcode\\\\llava_model'"
      ]
     },
     "execution_count": 5,
     "metadata": {},
     "output_type": "execute_result"
    }
   ],
   "source": [
    "from huggingface_hub import snapshot_download\n",
    "snapshot_download(repo_id=\"llava-hf/llava-1.5-13b-hf\", local_dir=\"./llava_model\")"
   ]
  },
  {
   "cell_type": "code",
   "execution_count": null,
   "id": "3396f86c",
   "metadata": {},
   "outputs": [],
   "source": [
    "from transformers import AutoProcessor, LlavaForConditionalGeneration\n",
    "import torch\n",
    "from PIL import Image\n",
    "\n",
    "# Paths\n",
    "model_path = \"./llava_model\"\n",
    "# clip_path = \"./clip_model\"\n",
    "\n",
    "# Load model in FP16 (no quantization needed)\n",
    "model = LlavaForConditionalGeneration.from_pretrained(model_path, torch_dtype=torch.float16)\n",
    "processor = AutoProcessor.from_pretrained(model_path)\n",
    "\n",
    "# Use full GPU\n",
    "model.to(\"cuda\")\n",
    "\n",
    "# Test with text + image\n",
    "text_prompt = \"Describe this image.\"\n",
    "image = Image.open(\"test.jpg\")  # Your image\n",
    "inputs = processor(text=text_prompt, images=image, return_tensors=\"pt\").to(\"cuda\")\n",
    "outputs = model.generate(**inputs, max_length=100)\n",
    "print(processor.decode(outputs[0], skip_special_tokens=True))"
   ]
  }
 ],
 "metadata": {
  "kernelspec": {
   "display_name": ".venv",
   "language": "python",
   "name": "python3"
  },
  "language_info": {
   "codemirror_mode": {
    "name": "ipython",
    "version": 3
   },
   "file_extension": ".py",
   "mimetype": "text/x-python",
   "name": "python",
   "nbconvert_exporter": "python",
   "pygments_lexer": "ipython3",
   "version": "3.9.2"
  }
 },
 "nbformat": 4,
 "nbformat_minor": 5
}
